{
 "cells": [
  {
   "cell_type": "code",
   "execution_count": 1,
   "metadata": {},
   "outputs": [],
   "source": [
    "# import sympy as sp\n",
    "# from sympy.physics.vector import init_vprinting\n",
    "# init_vprinting(use_latex='mathjax', pretty_print=False)"
   ]
  },
  {
   "cell_type": "code",
   "execution_count": 2,
   "metadata": {},
   "outputs": [],
   "source": [
    "from math import pi\n",
    "from math import cos, sin\n",
    "from math import sqrt\n",
    "import numpy as np\n",
    "import matplotlib.pyplot as plt\n"
   ]
  },
  {
   "cell_type": "code",
   "execution_count": 3,
   "metadata": {},
   "outputs": [],
   "source": [
    "# declare the symbols\n",
    "# from sympy.physics.mechanics import dynamicsymbols\n",
    "# theta1, theta2, l1, l2, theta, alpha, a, d = dynamicsymbols('theta1 theta2 la l2 theta alpha a d')\n",
    "# theta1, theta2, l1, l2, theta, alpha, a, d"
   ]
  },
  {
   "cell_type": "markdown",
   "metadata": {},
   "source": [
    "## Simple Arm"
   ]
  },
  {
   "cell_type": "code",
   "execution_count": 4,
   "metadata": {},
   "outputs": [],
   "source": [
    "class TwoLinkArm:\n",
    "    def __init__(self, joint_angles= [0, 0]):\n",
    "        self.shoulder = np.array([0, 0])\n",
    "        self.link_lengths = [1, 0.5]\n",
    "        self.update_joints(joint_angles)\n",
    "        \n",
    "    def update_joints(self, joint_angles):\n",
    "        self.joint_angles = joint_angles\n",
    "        self.forward_kinematics()\n",
    "        \n",
    "    def forward_kinematics(self):\n",
    "        theta0 = self.joint_angles[0]\n",
    "        theta1 = self.joint_angles[1]\n",
    "        l0 = self.link_lengths[0]\n",
    "        l1 = self.link_lengths[1]\n",
    "        self.elbow = self.shoulder + np.array([l0 * cos(theta0), l0 * sin(theta0)])\n",
    "        self.wrist = self.elbow + np.array([l1 * cos(theta0 + theta1), l1 * sin(theta0 + theta1)])\n",
    "        \n",
    "    def plot(self):\n",
    "        plt.plot([self.shoulder[0], self.elbow[0]], [self.shoulder[1], self.elbow[1]], 'r-')\n",
    "        plt.plot([self.elbow[0], self.wrist[0]], [self.elbow[1], self.wrist[1]], 'r-')\n",
    "        plt.plot(self.shoulder[0], self.shoulder[1], 'ko')\n",
    "        plt.plot(self.elbow[0], self.elbow[1], 'ko')\n",
    "        plt.plot(self.wrist[0], self.wrist[1], 'ko')\n",
    "        "
   ]
  },
  {
   "cell_type": "markdown",
   "metadata": {},
   "source": [
    "### Define help function"
   ]
  },
  {
   "cell_type": "code",
   "execution_count": 5,
   "metadata": {},
   "outputs": [],
   "source": [
    "def transform_points(points, theta, origin):\n",
    "    T = np.array([[cos(theta), -sin(theta), origin[0]],\n",
    "                 [sin(theta), cos(theta), origin[1]],\n",
    "                 [0, 0, 1]])\n",
    "    return T@np.array(points)\n",
    "\n",
    "def draw_angle(angle, offset=0, origin=[0, 0], r=0.5, n_points=100):\n",
    "    x_start = r*cos(angle)\n",
    "    x_end = r\n",
    "    dx = (x_end - x_start)/(n_points - 1)\n",
    "    coords = [[0 for _ in range(n_points)] for _ in range(3)]\n",
    "    x = x_start\n",
    "    for i in range(n_points-1):\n",
    "        y = sqrt(r**2 - x**2)\n",
    "        coords[0][i] = x\n",
    "        coords[1][i] = y\n",
    "        coords[2][i] = 1\n",
    "        x += dx\n",
    "        \n",
    "    coords[0][-1] = r\n",
    "    coords[2][-1] = 1\n",
    "    coords = transform_points(coords, offset, origin)\n",
    "    plt.plot(coords[0], coords[1], 'k-')"
   ]
  },
  {
   "cell_type": "code",
   "execution_count": 18,
   "metadata": {},
   "outputs": [
    {
     "data": {
      "image/png": "[encoded data removed]",
      "text/plain": [
       "<Figure size 432x288 with 1 Axes>"
      ]
     },
     "metadata": {
      "needs_background": "light"
     },
     "output_type": "display_data"
    }
   ],
   "source": [
    "arm = TwoLinkArm()\n",
    "\n",
    "theta0 = 45\n",
    "theta1 = -45\n",
    "theta0 = (theta0*pi) /180\n",
    "theta1 = (theta1*pi) /180\n",
    "\n",
    "# arm.update_joints([theta0, theta1])\n",
    "# arm.plot()\n",
    "\n",
    "test = np.arange(0,2*pi,0.7)\n",
    "all_elbow = []\n",
    "all_wrist = []\n",
    "# all_elbow = np.zeros((len(test), 2))\n",
    "# all_wrist = np.zeros((len(test), 2))\n",
    "\n",
    "for i in range(len(test)):\n",
    "    for j in range(len(test)):\n",
    "        arm.update_joints([test[i], test[j]])\n",
    "        all_elbow.append(arm.elbow)\n",
    "        all_wrist.append(arm.wrist)\n",
    "\n",
    "all_elbow = np.asarray(all_elbow)\n",
    "all_wrist = np.asarray(all_wrist)\n",
    "\n",
    "fig = plt.figure()\n",
    "ax = fig.add_subplot(111)\n",
    "ax.set_aspect(1)\n",
    "ax.axis([-2,2,-2,2])\n",
    "\n",
    "# plt.plot(all_wrist[:,0], all_wrist[:,1], 'ko')\n",
    "# plt.plot(all_elbow[:,0], all_elbow[:,1], 'ko')\n",
    "for i in range(len(test)**2):\n",
    "    plt.plot([0,all_elbow[i,0]], [0, all_elbow[i, 1]], 'r-')\n",
    "    plt.plot([all_elbow[i,0], all_wrist[i,0]], [all_elbow[i, 1], all_wrist[i,1]], 'b-')"
   ]
  }
 ],
 "metadata": {
  "kernelspec": {
   "display_name": "Python 3",
   "language": "python",
   "name": "python3"
  },
  "language_info": {
   "codemirror_mode": {
    "name": "ipython",
    "version": 3
   },
   "file_extension": ".py",
   "mimetype": "text/x-python",
   "name": "python",
   "nbconvert_exporter": "python",
   "pygments_lexer": "ipython3",
   "version": "3.8.6"
  }
 },
 "nbformat": 4,
 "nbformat_minor": 4
}

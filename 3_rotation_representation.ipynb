{
 "cells": [
  {
   "cell_type": "markdown",
   "metadata": {},
   "source": [
    "# Representations of Orientation"
   ]
  },
  {
   "cell_type": "code",
   "execution_count": 2,
   "metadata": {},
   "outputs": [],
   "source": [
    "from mpl_toolkits import mplot3d\n",
    "%matplotlib inline\n",
    "import numpy as np\n",
    "import matplotlib.pyplot as plt\n",
    "from math import pi\n",
    "from math import cos, sin\n",
    "from math import sqrt"
   ]
  },
  {
   "cell_type": "code",
   "execution_count": 3,
   "metadata": {},
   "outputs": [],
   "source": [
    "# Interactive function\n",
    "from __future__ import print_function\n",
    "from ipywidgets import interact, interactive, fixed, interact_manual\n",
    "import ipywidgets as widgets"
   ]
  },
  {
   "cell_type": "code",
   "execution_count": 4,
   "metadata": {},
   "outputs": [],
   "source": [
    "# help function\n",
    "def homogeneous(rot_x, rot_y, rot_z, trans_x, trans_y, trans_z):\n",
    "    # \n",
    "    R_x = np.array([[1, 0, 0, 0],\n",
    "                    [0, cos(rot_x), -sin(rot_x), 0],\n",
    "                    [0, sin(rot_x), cos(rot_x), 0],\n",
    "                    [0, 0, 0, 1]])\n",
    "    R_y = np.array([[cos(rot_y), 0, sin(rot_y), 0],\n",
    "                    [0, 1, 0, 0],\n",
    "                    [-sin(rot_y), 0, cos(rot_y), 0],\n",
    "                    [0, 0, 0, 1]])\n",
    "    R_z = np.array([[cos(rot_z), -sin(rot_z), 0, 0],\n",
    "                    [sin(rot_z), cos(rot_z), 0, 0],\n",
    "                    [0, 0, 1, 0],\n",
    "                    [0, 0, 0, 1]])\n",
    "    T = np.array([[1,0,0,trans_x],\n",
    "                   [0,1,0,trans_y],\n",
    "                   [0,0,1,trans_z],\n",
    "                   [0,0,0,1]])\n",
    "    \n",
    "    T_t = R_x @ R_y @ R_z @ T\n",
    "    return T_t\n",
    "    "
   ]
  },
  {
   "cell_type": "markdown",
   "metadata": {},
   "source": [
    "## Roll Pitch Yaw\n",
    "![](pic_resource/rpy.png)\n",
    "![](pic_resource/rpy_2.png)"
   ]
  },
  {
   "cell_type": "code",
   "execution_count": 5,
   "metadata": {},
   "outputs": [
    {
     "data": {
      "application/vnd.jupyter.widget-view+json": {
       "model_id": "0d6fe2528cfa48c2aa0237d2815d8ec5",
       "version_major": 2,
       "version_minor": 0
      },
      "text/plain": [
       "interactive(children=(FloatSlider(value=0.0, description='z', max=3.141592653589793, min=-3.141592653589793, s…"
      ]
     },
     "metadata": {},
     "output_type": "display_data"
    }
   ],
   "source": [
    "def rpy(z, y, x):\n",
    "    p0 = np.array([0, 0, 0, 1]).flatten()\n",
    "    p0_x = np.array([5,0,0,1]).flatten()\n",
    "    p0_y = np.array([0,5,0,1]).flatten()\n",
    "    p0_z = np.array([0,0,5,1]).flatten()\n",
    "\n",
    "    p1_r_z = homogeneous(0,0,z,0,0,0)\n",
    "    p1_r_y = homogeneous(0,y,0,0,0,0)\n",
    "    p1_r_x = homogeneous(x,0,0,0,0,0)\n",
    "    \n",
    "    p1 = p1_r_z @ p1_r_y @ p1_r_x @ p0\n",
    "    p1_x = p1_r_z @ p1_r_y @ p1_r_x @ p0_x\n",
    "    p1_y = p1_r_z @ p1_r_y @ p1_r_x @ p0_y\n",
    "    p1_z = p1_r_z @ p1_r_y @ p1_r_x @ p0_z\n",
    "\n",
    "    fig = plt.figure()\n",
    "    ax = plt.axes(projection='3d')\n",
    "    ax.set_xlim(-5, 5); ax.set_ylim(-5, 5); ax.set_zlim(0, 10);\n",
    "    \n",
    "    ax.scatter3D(p1[0], p1[1], p1[2])\n",
    "    ax.plot3D([p1[0], p1_x[0]], [p1[1], p1_x[1]], [p1[2], p1_x[2]], 'r')\n",
    "    ax.plot3D([p1[0], p1_y[0]], [p1[1], p1_y[1]], [p1[2], p1_y[2]], 'g')\n",
    "    ax.plot3D([p1[0], p1_z[0]], [p1[1], p1_z[1]], [p1[2], p1_z[2]], 'b')\n",
    "    ax.text(p1_x[0], p1_x[1], p1_x[2], 'X')\n",
    "    ax.text(p1_y[0], p1_y[1], p1_y[2], 'Y')\n",
    "    ax.text(p1_z[0], p1_z[1], p1_z[2], 'Z')\n",
    "    \n",
    "interactive_plot = interactive(rpy, x=(-pi, pi, pi/16), y=(-pi, pi, pi/16), z=(-pi, pi, pi/16))\n",
    "output = interactive_plot.children[-1]\n",
    "interactive_plot\n"
   ]
  },
  {
   "cell_type": "markdown",
   "metadata": {},
   "source": [
    "***Notice***: Here we make use of post-multiplication, and therefore the rotation is easy to understand if you follow the order z->y->x. It always rotates about the new frame.You might also try the other ways, which make it rotate in a weird way. "
   ]
  },
  {
   "cell_type": "markdown",
   "metadata": {},
   "source": [
    "## Euler Angle\n",
    "![](pic_resource/euler_angle.png)\n",
    "\n",
    "* **&alpha;** : Rotates about the original Z<sub>n</sub>\n",
    "* **&beta;** : Rotates about the resulted Y<sub>n+1</sub>\n",
    "* **&gamma;** : Rotates about the resulted Z<sub>n+2</sub>"
   ]
  },
  {
   "cell_type": "code",
   "execution_count": 6,
   "metadata": {},
   "outputs": [
    {
     "data": {
      "application/vnd.jupyter.widget-view+json": {
       "model_id": "51322bbd26b04d88ac68f6c65b8fe8ee",
       "version_major": 2,
       "version_minor": 0
      },
      "text/plain": [
       "interactive(children=(FloatSlider(value=0.0, description='alpha', max=3.141592653589793, min=-3.14159265358979…"
      ]
     },
     "metadata": {},
     "output_type": "display_data"
    }
   ],
   "source": [
    "def euler(alpha, beta, gamma):\n",
    "    p0 = np.array([0, 0, 0, 1]).flatten()\n",
    "    p0_x = np.array([5,0,0,1]).flatten()\n",
    "    p0_y = np.array([0,5,0,1]).flatten()\n",
    "    p0_z = np.array([0,0,5,1]).flatten()\n",
    "\n",
    "    p1_r_z_alpha = homogeneous(0,0,alpha,0,0,0)\n",
    "    p1_r_y_beta = homogeneous(0,beta,0,0,0,0)\n",
    "    p1_r_z_gamma = homogeneous(0,0,gamma,0,0,0)\n",
    "    \n",
    "    T = p1_r_z_alpha @ p1_r_y_beta @ p1_r_z_gamma\n",
    "    \n",
    "    p1 = T @ p0\n",
    "    p1_x = T @ p0_x\n",
    "    p1_y = T @ p0_y\n",
    "    p1_z = T @ p0_z\n",
    "\n",
    "    fig = plt.figure()\n",
    "    ax = plt.axes(projection='3d')\n",
    "    ax.set_xlim(-5, 5); ax.set_ylim(-5, 5); ax.set_zlim(0, 10);\n",
    "    \n",
    "    ax.scatter3D(p1[0], p1[1], p1[2])\n",
    "    ax.plot3D([p1[0], p1_x[0]], [p1[1], p1_x[1]], [p1[2], p1_x[2]], 'r')\n",
    "    ax.plot3D([p1[0], p1_y[0]], [p1[1], p1_y[1]], [p1[2], p1_y[2]], 'g')\n",
    "    ax.plot3D([p1[0], p1_z[0]], [p1[1], p1_z[1]], [p1[2], p1_z[2]], 'b')\n",
    "    ax.text(p1_x[0], p1_x[1], p1_x[2], 'X')\n",
    "    ax.text(p1_y[0], p1_y[1], p1_y[2], 'Y')\n",
    "    ax.text(p1_z[0], p1_z[1], p1_z[2], 'Z')\n",
    "    \n",
    "interactive_plot = interactive(euler, alpha=(-pi, pi, pi/16), beta=(-pi, pi, pi/16), gamma=(-pi, pi, pi/16))\n",
    "output = interactive_plot.children[-1]\n",
    "interactive_plot"
   ]
  },
  {
   "cell_type": "markdown",
   "metadata": {},
   "source": [
    "## Quaternion\n",
    "\n",
    "Reference to this [website](https://eater.net/quaternions), done by Grant Sanderson and Ben Eater. There you can find awesome videos and tutorials that help you to grasp a little idea about quaternion."
   ]
  },
  {
   "cell_type": "code",
   "execution_count": 7,
   "metadata": {},
   "outputs": [
    {
     "data": {
      "application/vnd.jupyter.widget-view+json": {
       "model_id": "ef6d728ea6564848bbf842f7ee907c27",
       "version_major": 2,
       "version_minor": 0
      },
      "text/plain": [
       "interactive(children=(FloatSlider(value=0.0, description='q0', max=1.5, min=-1.5), FloatSlider(value=0.0, desc…"
      ]
     },
     "metadata": {},
     "output_type": "display_data"
    }
   ],
   "source": [
    "# import quaternion\n",
    "\n",
    "def quaternion_f(q0, q1, q2, q3):\n",
    "    p = np.array([0, 0, 0, 0]).flatten()\n",
    "    p_x = np.array([0,2,0,0]).flatten()\n",
    "    p_y = np.array([0,0,2,0]).flatten()\n",
    "    p_z = np.array([0,0,0,2]).flatten()\n",
    "\n",
    "\n",
    "    q = np.array([q0,q1,q2,q3])\n",
    "\n",
    "    q_inv = np.conj(q)\n",
    "\n",
    "    p1 = (q[0]**2  - np.dot(q[1:], q[1:]))*p[1:] + 2*q[0]*(np.cross(q[1:], p[1:])) + 2*q[1:]*(np.dot(q[1:], p[1:]))\n",
    "    p1_x = (q[0]**2  - np.dot(q[1:], q[1:]))*p_x[1:] + 2*q[0]*(np.cross(q[1:], p_x[1:])) + 2*q[1:]*(np.dot(q[1:], p_x[1:]))\n",
    "    p1_y = (q[0]**2  - np.dot(q[1:], q[1:]))*p_y[1:] + 2*q[0]*(np.cross(q[1:], p_y[1:])) + 2*q[1:]*(np.dot(q[1:], p_y[1:]))\n",
    "    p1_z = (q[0]**2  - np.dot(q[1:], q[1:]))*p_z[1:] + 2*q[0]*(np.cross(q[1:], p_z[1:])) + 2*q[1:]*(np.dot(q[1:], p_z[1:]))\n",
    "\n",
    "    fig = plt.figure()\n",
    "    ax = plt.axes(projection='3d')\n",
    "    ax.set_xlim(-5, 5); ax.set_ylim(-5, 5); ax.set_zlim(0, 10);\n",
    "    \n",
    "    ax.scatter3D(p1[0], p1[1], p1[2])\n",
    "    ax.plot3D([p1[0], p1_x[0]], [p1[1], p1_x[1]], [p1[2], p1_x[2]], 'r')\n",
    "    ax.plot3D([p1[0], p1_y[0]], [p1[1], p1_y[1]], [p1[2], p1_y[2]], 'g')\n",
    "    ax.plot3D([p1[0], p1_z[0]], [p1[1], p1_z[1]], [p1[2], p1_z[2]], 'b')\n",
    "\n",
    "    \n",
    "interactive_plot = interactive(quaternion_f, q0=(-1.5, 1.5, 0.1), q1=(-1.5, 1.5, 0.1), q2=(-1.5, 1.5, 0.1), q3=(-1.5, 1.5, 0.1))\n",
    "output = interactive_plot.children[-1]\n",
    "interactive_plot\n",
    "    "
   ]
  },
  {
   "cell_type": "code",
   "execution_count": null,
   "metadata": {},
   "outputs": [],
   "source": []
  }
 ],
 "metadata": {
  "kernelspec": {
   "display_name": "Python 3",
   "language": "python",
   "name": "python3"
  },
  "language_info": {
   "codemirror_mode": {
    "name": "ipython",
    "version": 3
   },
   "file_extension": ".py",
   "mimetype": "text/x-python",
   "name": "python",
   "nbconvert_exporter": "python",
   "pygments_lexer": "ipython3",
   "version": "3.6.9"
  }
 },
 "nbformat": 4,
 "nbformat_minor": 4
}

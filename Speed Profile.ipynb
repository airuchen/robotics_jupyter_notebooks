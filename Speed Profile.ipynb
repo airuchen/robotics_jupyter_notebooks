{
 "cells": [
  {
   "cell_type": "markdown",
   "metadata": {},
   "source": [
    "# Speed Profile: Shock-free and Jerk-limited"
   ]
  },
  {
   "cell_type": "code",
   "execution_count": 2,
   "metadata": {},
   "outputs": [],
   "source": [
    "%matplotlib inline\n",
    "import numpy as np\n",
    "import matplotlib.pyplot as plt\n",
    "from math import pi\n",
    "from math import cos, sin\n",
    "from math import sqrt"
   ]
  },
  {
   "cell_type": "markdown",
   "metadata": {},
   "source": [
    "### Given parameters: \n",
    "***a_max***\n",
    "\n",
    "***v_max***\n",
    "\n",
    "***s_total***"
   ]
  },
  {
   "cell_type": "code",
   "execution_count": 52,
   "metadata": {},
   "outputs": [],
   "source": [
    "# Set parameters\n",
    "a_max = 2 # m/(s**2)\n",
    "v_max = 2 # m/s\n",
    "s_total = 5 # m\n",
    "\n",
    "t_acc = 1.5 * (v_max / a_max)"
   ]
  },
  {
   "cell_type": "markdown",
   "metadata": {},
   "source": [
    "## Phase 1: acceleration profile\n",
    "\n",
    "Gien a_max and t_acc, we are able to calcultae the interpolation params.\n",
    "\n",
    "*Assume acceleration function a(t) = At^2 + Bt + C"
   ]
  },
  {
   "cell_type": "code",
   "execution_count": 53,
   "metadata": {},
   "outputs": [
    {
     "data": {
      "text/plain": [
       "[<matplotlib.lines.Line2D at 0x22d6f788e50>]"
      ]
     },
     "execution_count": 53,
     "metadata": {},
     "output_type": "execute_result"
    },
    {
     "data": {
      "image/png": "[encoded data removed]",
      "text/plain": [
       "<Figure size 432x288 with 1 Axes>"
      ]
     },
     "metadata": {
      "needs_background": "light"
     },
     "output_type": "display_data"
    }
   ],
   "source": [
    "t = np.linspace(0, t_acc, 100)\n",
    "\n",
    "a_1 = (-4*a_max) * (t**2) / (t_acc**2)  + (4*a_max) * t / (t_acc)\n",
    "v_1 = (-4*a_max) * (t**3)/ (3*(t_acc**2)) + (4*a_max) * (t**2) / (2*t_acc)\n",
    "s_1 = (2*a_max*(t**3)*t_acc - a_max*(t**4)) / (3*(t_acc**2))\n",
    "\n",
    "fig = plt.figure()\n",
    "ax = plt.axes()\n",
    "ax.set_xlim(0, 5); ax.set_ylim(-5, 5);\n",
    "ax.plot(t, a_1, 'b')\n",
    "ax.plot(t, v_1, 'y')\n",
    "ax.plot(t, s_1, 'r')"
   ]
  },
  {
   "cell_type": "markdown",
   "metadata": {},
   "source": [
    "## Phase 2: Plateau state"
   ]
  },
  {
   "cell_type": "code",
   "execution_count": 62,
   "metadata": {},
   "outputs": [
    {
     "name": "stdout",
     "output_type": "stream",
     "text": [
      "t_plateau:  1.0\n"
     ]
    },
    {
     "data": {
      "text/plain": [
       "[<matplotlib.lines.Line2D at 0x22d6f3ddd30>]"
      ]
     },
     "execution_count": 62,
     "metadata": {},
     "output_type": "execute_result"
    },
    {
     "data": {
      "image/png": "[encoded data removed]",
      "text/plain": [
       "<Figure size 432x288 with 1 Axes>"
      ]
     },
     "metadata": {
      "needs_background": "light"
     },
     "output_type": "display_data"
    }
   ],
   "source": [
    "t_plateau = (s_total - 2*s_1[-1])/v_max\n",
    "print(\"t_plateau: \", t_plateau)\n",
    "\n",
    "t = np.linspace(t_acc,t_plateau + t_acc, 100)\n",
    "a_2 = 0*t\n",
    "v_2 = v_max * np.ones((t.shape))\n",
    "s_2 = s_1[-1] + v_max * (t - t_acc)\n",
    "\n",
    "fig = plt.figure()\n",
    "ax = plt.axes()\n",
    "ax.set_xlim(0, 5); ax.set_ylim(-5, 5);\n",
    "ax.plot(t, a_2, 'b')\n",
    "ax.plot(t, v_2, 'y')\n",
    "ax.plot(t, s_2, 'r')"
   ]
  },
  {
   "cell_type": "markdown",
   "metadata": {},
   "source": [
    "## Phase 3: Braking Phase"
   ]
  },
  {
   "cell_type": "code",
   "execution_count": 99,
   "metadata": {},
   "outputs": [
    {
     "data": {
      "text/plain": [
       "[<matplotlib.lines.Line2D at 0x22d7248a610>]"
      ]
     },
     "execution_count": 99,
     "metadata": {},
     "output_type": "execute_result"
    },
    {
     "data": {
      "image/png": "[encoded data removed]",
      "text/plain": [
       "<Figure size 432x288 with 1 Axes>"
      ]
     },
     "metadata": {
      "needs_background": "light"
     },
     "output_type": "display_data"
    }
   ],
   "source": [
    "# t = np.linspace(t_acc + t_plateau, t_acc + t_plateau + t_acc, 100)\n",
    "t = np.linspace(0, t_acc, 100)\n",
    "\n",
    "\n",
    "# a_3 = (4*a_max*(t_plateau**2))/(t_acc**2) + (12*a_max*t_plateau)/t_acc - (8*a_max*t*t_plateau)/(t_acc**2) - (12*a_max*t)/t_acc + (4*a_max*(t**2))/(t_acc**2) + 8*a_max\n",
    "# v_3 = -(4*a_max*(t_plateau**3))/(3*t_acc**2) - (6*a_max*(t_plateau**2))/t_acc + (4*a_max*t*(t_plateau**2))/(t_acc**2) + (12*a_max*t*t_plateau)/t_acc - (4*a_max*(t**2)*t_plateau)/(t_acc**2) - 8*a_max*t_plateau - 8*a_max*t_acc/3 - 6*a_max*(t**2)/t_acc + 4*a_max*(t**3)/(3*(t_acc**2)) + 8*a_max*t\n",
    "\n",
    "a_3 = -(-4*a_max) * (t**2) / (t_acc**2)  - (4*a_max) * t / (t_acc)\n",
    "v_3 = v_2[-1] - ((-4*a_max) * (t**3)/ (3*(t_acc**2)) + (4*a_max) * (t**2) / (2*t_acc))\n",
    "s_3 = s_2[-1] + v_2[-1]*t - ((-a_max) * (t**4)/ (3*(t_acc**2)) + (4*a_max) * (t**3) / (6*t_acc))\n",
    "\n",
    "t = np.linspace(t_acc + t_plateau, t_acc + t_plateau + t_acc, 100)\n",
    "\n",
    "fig = plt.figure()\n",
    "ax = plt.axes()\n",
    "ax.set_xlim(0, 5); ax.set_ylim(-5, 5);\n",
    "ax.plot(t, a_3, 'b')\n",
    "ax.plot(t, v_3, 'y')\n",
    "ax.plot(t, s_3, 'r')"
   ]
  },
  {
   "cell_type": "markdown",
   "metadata": {},
   "source": [
    "## Overall profile"
   ]
  },
  {
   "cell_type": "code",
   "execution_count": 106,
   "metadata": {},
   "outputs": [
    {
     "data": {
      "text/plain": [
       "[<matplotlib.lines.Line2D at 0x22d72c22160>]"
      ]
     },
     "execution_count": 106,
     "metadata": {},
     "output_type": "execute_result"
    },
    {
     "data": {
      "image/png": "[encoded data removed]",
      "text/plain": [
       "<Figure size 432x288 with 1 Axes>"
      ]
     },
     "metadata": {
      "needs_background": "light"
     },
     "output_type": "display_data"
    }
   ],
   "source": [
    "t = np.linspace(0, 2*t_acc+t_plateau, 300)\n",
    "\n",
    "fig = plt.figure()\n",
    "ax = plt.axes()\n",
    "ax.set_xlim(0, 5); ax.set_ylim(-5, 5);\n",
    "a = np.concatenate((a_1, a_2, a_3))\n",
    "v = np.concatenate((v_1, v_2, v_3))\n",
    "s = np.concatenate((s_1, s_2, s_3))\n",
    "ax.plot(t, a, 'b')\n",
    "ax.plot(t, v, 'y')\n",
    "ax.plot(t, s, 'r')"
   ]
  },
  {
   "cell_type": "code",
   "execution_count": null,
   "metadata": {},
   "outputs": [],
   "source": []
  }
 ],
 "metadata": {
  "kernelspec": {
   "display_name": "Python 3",
   "language": "python",
   "name": "python3"
  },
  "language_info": {
   "codemirror_mode": {
    "name": "ipython",
    "version": 3
   },
   "file_extension": ".py",
   "mimetype": "text/x-python",
   "name": "python",
   "nbconvert_exporter": "python",
   "pygments_lexer": "ipython3",
   "version": "3.8.6"
  }
 },
 "nbformat": 4,
 "nbformat_minor": 4
}

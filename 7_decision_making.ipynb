{
 "cells": [
  {
   "cell_type": "code",
   "execution_count": 1,
   "metadata": {},
   "outputs": [],
   "source": [
    "from mpl_toolkits import mplot3d\n",
    "%matplotlib inline\n",
    "import numpy as np\n",
    "import matplotlib.pyplot as plt\n",
    "from math import pi\n",
    "from math import cos, sin\n",
    "from math import sqrt\n",
    "import scipy.stats as stats\n",
    "import scipy"
   ]
  },
  {
   "cell_type": "code",
   "execution_count": 6,
   "metadata": {},
   "outputs": [
    {
     "data": {
      "application/vnd.jupyter.widget-view+json": {
       "model_id": "c80ccf9238364b428cbba7620dac79bd",
       "version_major": 2,
       "version_minor": 0
      },
      "text/plain": [
       "interactive(children=(FloatSlider(value=7.0, description='threshold', max=15.0), FloatSlider(value=7.0, descri…"
      ]
     },
     "metadata": {},
     "output_type": "display_data"
    }
   ],
   "source": [
    "from __future__ import print_function\n",
    "from ipywidgets import interact, interactive, fixed, interact_manual\n",
    "import ipywidgets as widgets\n",
    "plt.rcParams[\"figure.figsize\"]=5,5\n",
    "\n",
    "def area_under_gaussian_at_left(t,mu,sigma):\n",
    "    a = t-mu\n",
    "    b = sqrt(2)*sigma\n",
    "    return .5*(1+scipy.special.erf(a/b))\n",
    "def area_under_gaussian_at_right(t,mu,sigma):\n",
    "    return 1-area_under_gaussian_at_left(t,mu,sigma)\n",
    "\n",
    "def prob_overlap(threshold, mu1, variance1, mu2, variance2):\n",
    "    \n",
    "    sigma_1 = sqrt(variance1)\n",
    "    sigma_2 = sqrt(variance2)\n",
    "    x = np.linspace(0, 15, 1000)\n",
    "    \n",
    "    true_negative =  round(area_under_gaussian_at_left(threshold,mu1,sigma_1), 3)\n",
    "    false_positive = round(area_under_gaussian_at_right(threshold,mu1,sigma_1), 3)\n",
    "    true_positive =  round(area_under_gaussian_at_right(threshold,mu2,sigma_2), 3)\n",
    "    false_negative = round(area_under_gaussian_at_left(threshold,mu2,sigma_2), 3)\n",
    "    \n",
    "    roc_t = round(true_positive / false_positive, 3)\n",
    "        \n",
    "    print('true_negative  :', true_negative )\n",
    "    print('false_positive :', false_positive)\n",
    "    print('true_positive  :', true_positive )\n",
    "    print('false_negative :', false_negative)\n",
    "    print('ROC :', roc_t)\n",
    "    \n",
    "    \n",
    "\n",
    "    plt.subplot(211)\n",
    "    plt.vlines(threshold, -1,2, 'k')\n",
    "    plt.axis([0,15,-1, 2])\n",
    "    plt.plot(x, stats.norm.pdf(x, mu1, sigma_1), 'b')\n",
    "    plt.text(mu1-0.8, -0.25, 'no tumor')\n",
    "    plt.plot(x, stats.norm.pdf(x, mu2, sigma_2), 'r')\n",
    "    plt.text(mu2-0.5, -0.25, 'tumor')\n",
    "    \n",
    "    \n",
    "    ## Calculate ROC\n",
    "    roc = np.zeros((x.shape))\n",
    "    true_pos = np.zeros((x.shape))\n",
    "    false_pos = np.zeros((x.shape))\n",
    "    max_roc = 0\n",
    "    max_roc_num = 0\n",
    "    for i in range(x.shape[0]):\n",
    "        true_pos[i] = area_under_gaussian_at_right(i,mu2,sigma_2)\n",
    "        false_pos[i] = area_under_gaussian_at_right(i,mu1,sigma_1)\n",
    "        if false_pos[i] is not 0:\n",
    "            roc_tmp = true_pos[i] / false_pos[i]\n",
    "            if not np.isnan(roc_tmp) and not np.isinf(roc_tmp):\n",
    "                roc[i] = roc_tmp\n",
    "                \n",
    "        else:\n",
    "            roc[i] = np.nan\n",
    "            \n",
    "    \n",
    "    plt.subplot(212)\n",
    "    plt.plot(false_pos, true_pos, 'r')\n",
    "    plt.plot([0, false_positive], [0, true_positive], 'b')\n",
    "\n",
    "    \n",
    "    plt.show()\n",
    "\n",
    "\n",
    "interactive_plot = interactive(prob_overlap, threshold=(0, 15, 0.1), mu1=(2, 12, 0.05), variance1=(0.01, 4, 0.05), mu2=(2, 12, 0.05), variance2=(0.01, 4, 0.05))\n",
    "output = interactive_plot.children[-1]\n",
    "output.layout.height = '800px'\n",
    "interactive_plot"
   ]
  },
  {
   "cell_type": "code",
   "execution_count": null,
   "metadata": {},
   "outputs": [],
   "source": [
    "\n"
   ]
  },
  {
   "cell_type": "code",
   "execution_count": null,
   "metadata": {},
   "outputs": [],
   "source": []
  }
 ],
 "metadata": {
  "kernelspec": {
   "display_name": "Python 3",
   "language": "python",
   "name": "python3"
  },
  "language_info": {
   "codemirror_mode": {
    "name": "ipython",
    "version": 3
   },
   "file_extension": ".py",
   "mimetype": "text/x-python",
   "name": "python",
   "nbconvert_exporter": "python",
   "pygments_lexer": "ipython3",
   "version": "3.6.9"
  }
 },
 "nbformat": 4,
 "nbformat_minor": 4
}

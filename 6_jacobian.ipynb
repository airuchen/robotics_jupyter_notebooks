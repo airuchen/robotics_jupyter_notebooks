{
 "cells": [
  {
   "cell_type": "markdown",
   "metadata": {},
   "source": [
    "# Jacobian \n",
    "\n",
    "![](pic_resource/jacobian_deriv_1.png)"
   ]
  },
  {
   "cell_type": "markdown",
   "metadata": {},
   "source": [
    "## Interpretation of Jacobian -- J\n",
    "\n",
    "Each column of Jacobian matrix describes the vector of Cartesian velocity which results solely from the movement of joint change $\\Delta$q .\n",
    "![](pic_resource/jacobian_deriv_2.png)\n",
    "\n",
    "## Interpretation of Inverse Jacobian -- J<sup>-1</sup>\n",
    "\n",
    "Each column of J<sup>-1</sup> describes the vector of $\\Delta$q which results solely from the movement of $\\Delta$x, $\\Delta$y, $\\Delta$z in Cartesian coordinate.\n",
    "\n",
    "Which means, for infinitesimal changes in Cartesian coordinate, we are able to calculate the change of joints.\n",
    "![](pic_resource/jacobian_deriv_3.png)"
   ]
  },
  {
   "cell_type": "markdown",
   "metadata": {},
   "source": [
    "# Implementation\n",
    "![](pic_resource/jacobian_arm.png)"
   ]
  },
  {
   "cell_type": "code",
   "execution_count": 1,
   "metadata": {},
   "outputs": [],
   "source": [
    "from mpl_toolkits import mplot3d\n",
    "%matplotlib inline\n",
    "import numpy as np\n",
    "import matplotlib.pyplot as plt\n",
    "from math import pi\n",
    "from math import cos, sin\n",
    "from math import sqrt"
   ]
  },
  {
   "cell_type": "markdown",
   "metadata": {},
   "source": [
    "### Define Arm model"
   ]
  },
  {
   "cell_type": "code",
   "execution_count": 2,
   "metadata": {},
   "outputs": [
    {
     "data": {
      "image/png": "[encoded data removed]",
      "text/plain": [
       "<Figure size 432x288 with 1 Axes>"
      ]
     },
     "metadata": {
      "needs_background": "light"
     },
     "output_type": "display_data"
    }
   ],
   "source": [
    "class TwoLinkArm:\n",
    "    def __init__(self, joint_angles= [0, 0]):\n",
    "        self.shoulder = np.array([0, 0])\n",
    "        self.link_lengths = [3, 1]\n",
    "        self.update_joints(joint_angles)\n",
    "        \n",
    "    def update_joints(self, joint_angles):\n",
    "        self.joint_angles = joint_angles\n",
    "        self.forward_kinematics()\n",
    "        return [self.elbow, self.wrist]\n",
    "        \n",
    "    def forward_kinematics(self):\n",
    "        theta0 = self.joint_angles[0]\n",
    "        theta1 = self.joint_angles[1]\n",
    "        l0 = self.link_lengths[0]\n",
    "        l1 = self.link_lengths[1]\n",
    "        self.elbow = self.shoulder + np.array([l0 * cos(theta0), l0 * sin(theta0)])\n",
    "        self.wrist = self.elbow + np.array([l1 * cos(theta0 + theta1), l1 * sin(theta0 + theta1)])\n",
    "        \n",
    "    def inverse_kinematics(self, x, y):\n",
    "        theta1 = np.pi - np.arccos((self.link_lengths[0]**2 + self.link_lengths[1]**2 - x**2 - y**2) / (2*self.link_lengths[0]*self.link_lengths[1]))\n",
    "        theta0 = np.arctan2(y, x) - np.arccos((self.link_lengths[0]**2 + x**2 + y**2 - self.link_lengths[1]**2) / (2*self.link_lengths[0]*((x**2 + y**2)**0.5)))\n",
    "        return [theta0, theta1]\n",
    "        \n",
    "    def plot(self):\n",
    "        plt.axis([-5,5,-5,5])\n",
    "        plt.plot([self.shoulder[0], self.elbow[0]], [self.shoulder[1], self.elbow[1]], 'r-')\n",
    "        plt.plot([self.elbow[0], self.wrist[0]], [self.elbow[1], self.wrist[1]], 'b-')\n",
    "        plt.plot(self.shoulder[0], self.shoulder[1], 'ko')\n",
    "        plt.plot(self.elbow[0], self.elbow[1], 'ko')\n",
    "        plt.plot(self.wrist[0], self.wrist[1], 'ko')\n",
    " \n",
    "\n",
    "arm = TwoLinkArm([pi/4, 0])\n",
    "arm.plot()"
   ]
  },
  {
   "cell_type": "markdown",
   "metadata": {},
   "source": [
    "### Define Inverse Jacobian matrix function\n",
    "* **q1:**   current q1\n",
    "* **q2:**   current q2\n",
    "* **l1:**   link1 length\n",
    "* **l2:**   link2 length\n",
    "* **d_x:**  change of x\n",
    "* **d_y:**  change of y"
   ]
  },
  {
   "cell_type": "code",
   "execution_count": 3,
   "metadata": {},
   "outputs": [],
   "source": [
    "def inv_jacobian(q1, q2, l1, l2, displacement):\n",
    "    # q1: current q1\n",
    "    # q2: current q2\n",
    "    # l1: link1 length\n",
    "    # l2: link2 length\n",
    "    # d_x: change of x\n",
    "    # d_y: change of y\n",
    "    \n",
    "    # Jacobian matrix\n",
    "    J = [[-l2*sin(q1+q2)-l1*sin(q1), -l2*sin(q1+q2)],\n",
    "        [l2*cos(q1+q2)+l1*cos(q1), l2*cos(q1+q2)]]\n",
    "    \n",
    "    # Pseudo-inverse Jacobian matrix\n",
    "    inv_J = np.linalg.pinv(J)\n",
    "    \n",
    "    # given change of (x,y), calculate change of joint angle\n",
    "    dq = inv_J @ displacement\n",
    "    \n",
    "    return dq"
   ]
  },
  {
   "cell_type": "markdown",
   "metadata": {},
   "source": [
    "### Path-planing with Jacobian in interactable timestep"
   ]
  },
  {
   "cell_type": "code",
   "execution_count": 4,
   "metadata": {},
   "outputs": [
    {
     "name": "stdout",
     "output_type": "stream",
     "text": [
      "Maximun joint speed:  0.087 rad\n",
      "Original position:  [2.121 3.121]\n",
      "Desired position:  [ 2.366 -2.098]\n",
      "\n",
      " \n",
      "Simulating time step\n"
     ]
    },
    {
     "data": {
      "application/vnd.jupyter.widget-view+json": {
       "model_id": "99604a107182401e92d54d7949bdb010",
       "version_major": 2,
       "version_minor": 0
      },
      "text/plain": [
       "interactive(children=(IntSlider(value=99, description='sim_t', max=199), Output(layout=Layout(height='300px'))…"
      ]
     },
     "metadata": {},
     "output_type": "display_data"
    },
    {
     "data": {
      "image/png": "[encoded data removed]",
      "text/plain": [
       "<Figure size 360x360 with 1 Axes>"
      ]
     },
     "metadata": {
      "needs_background": "light"
     },
     "output_type": "display_data"
    }
   ],
   "source": [
    "from __future__ import print_function\n",
    "from ipywidgets import interact, interactive, fixed, interact_manual\n",
    "import ipywidgets as widgets\n",
    "plt.rcParams[\"figure.figsize\"]=5,5\n",
    "\n",
    "# Simulation time steps\n",
    "t = 200\n",
    "dt = np.arange(0, t)\n",
    "\n",
    "# Assume joint0 and joint1 are able to rotate 5 degree per unit time\n",
    "joint_max_rad = 5 / 180 * np.pi\n",
    "print(\"Maximun joint speed: \", np.round(joint_max_rad, 3), \"rad\")\n",
    "\n",
    "### Initialization\n",
    "## Initialize async-p2p arm\n",
    "arm = TwoLinkArm([pi/4, pi/4])\n",
    "current_theta = np.zeros((t,2))\n",
    "current_position = np.zeros((t,2))\n",
    "current_position[0] = arm.wrist\n",
    "current_theta[0] = arm.inverse_kinematics(current_position[0][0], current_position[0][1])\n",
    "print(\"Original position: \", np.round(current_position[0], 3))\n",
    "\n",
    "\n",
    "### Set desired goal (position or joint angle)\n",
    "## Set desired position (x, y)\n",
    "# desired_position = [-0.5, 0.9]\n",
    "# desired_theta = arm.inverse_kinematics(desired_position[0], desired_position[1])\n",
    "\n",
    "## Set desired joint angle (joint1, joint2)\n",
    "desired_theta = np.array([-pi/3, pi/2])\n",
    "desired_position = arm.update_joints(desired_theta)[1]\n",
    "print(\"Desired position: \", np.round(desired_position, 3))\n",
    "\n",
    "\n",
    "###Simulate arm movement\n",
    "## create tmp variable\n",
    "distance = np.zeros((t,2))\n",
    "dif_theta = np.zeros((t,2))\n",
    "\n",
    "## Pre-calculate change distance for each timestep\n",
    "distance[0] = desired_position - current_position[0]\n",
    "\n",
    "# jacobian gain factor\n",
    "jacobian_gain_factor = 0.5\n",
    "\n",
    "# define arm link length\n",
    "l1, l2 = arm.link_lengths\n",
    "\n",
    "## Simulate in timestepscurrent_theta\n",
    "for i in range(t):\n",
    "    # given change in cartesian coordinate, obtain joint change by using inverse jacobian\n",
    "    dif_theta[i] = inv_jacobian(current_theta[i][0], current_theta[i][1], l1, l2, distance[i])\n",
    "    \n",
    "    # Limit angle change in maximum speed \n",
    "    dif_theta[i] = np.where(dif_theta[i] > joint_max_rad, joint_max_rad, dif_theta[i])\n",
    "    dif_theta[i] = np.where(dif_theta[i] < -joint_max_rad, -joint_max_rad, dif_theta[i])\n",
    "\n",
    "    if i < t-1:\n",
    "        # Update current angle\n",
    "        current_theta[i+1] = current_theta[i] + (jacobian_gain_factor * dif_theta[i]) \n",
    "        # Forward kinematics, calculate current end position\n",
    "        arm.update_joints(current_theta[i+1])\n",
    "        current_position[i+1] = arm.wrist\n",
    "        # Update remaining distance\n",
    "        distance[i+1] = desired_position - current_position[i+1]\n",
    "    \n",
    "\n",
    "# Plot end point changes\n",
    "ax = plt.subplot(121)\n",
    "ax.set_xlabel('time [unit]')\n",
    "ax.set_ylabel('position')\n",
    "ax.plot(dt, current_position[:])\n",
    "ax.set_aspect('auto')\n",
    "ax.legend(['x', 'y'])\n",
    "ax.set_title('End point changes')\n",
    "ax.grid()\n",
    "\n",
    "# Interactive time simulation plot\n",
    "def iterpolation(sim_t):\n",
    "    # Update arm according to sim_t\n",
    "    arm.update_joints(current_theta[sim_t])\n",
    "    arm.plot()\n",
    "    plt.text(arm.wrist[0], arm.wrist[1], np.round(arm.wrist, 2))\n",
    "    ax.set_title('Jacobian path-planing')\n",
    "    plt.grid()\n",
    "\n",
    "# Interation function \n",
    "print(\"\\n \\nSimulating time step\")\n",
    "interactive_plot = interactive(iterpolation, sim_t=(0, t-1, 1))\n",
    "output = interactive_plot.children[-1]\n",
    "output.layout.height = '300px'\n",
    "interactive_plot\n"
   ]
  },
  {
   "cell_type": "code",
   "execution_count": null,
   "metadata": {},
   "outputs": [],
   "source": []
  }
 ],
 "metadata": {
  "kernelspec": {
   "display_name": "Python 3",
   "language": "python",
   "name": "python3"
  },
  "language_info": {
   "codemirror_mode": {
    "name": "ipython",
    "version": 3
   },
   "file_extension": ".py",
   "mimetype": "text/x-python",
   "name": "python",
   "nbconvert_exporter": "python",
   "pygments_lexer": "ipython3",
   "version": "3.6.9"
  }
 },
 "nbformat": 4,
 "nbformat_minor": 4
}

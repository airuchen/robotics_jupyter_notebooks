{
 "cells": [
  {
   "cell_type": "markdown",
   "metadata": {},
   "source": [
    "# Jacobian "
   ]
  },
  {
   "cell_type": "code",
   "execution_count": 3,
   "metadata": {},
   "outputs": [],
   "source": [
    "from mpl_toolkits import mplot3d\n",
    "%matplotlib inline\n",
    "import numpy as np\n",
    "import matplotlib.pyplot as plt\n",
    "from math import pi\n",
    "from math import cos, sin\n",
    "from math import sqrt"
   ]
  },
  {
   "cell_type": "code",
   "execution_count": 4,
   "metadata": {},
   "outputs": [],
   "source": [
    "# Define DH function\n",
    "def dh_matrix(theta, d, gama, alpha):\n",
    "    T_1 = np.array([[cos(theta), -sin(theta)*cos(alpha), sin(theta)*sin(alpha), gama*cos(theta)],\n",
    "                  [sin(theta), cos(theta)*cos(alpha), -cos(theta)*sin(alpha), gama*sin(theta)],\n",
    "                   [0, sin(alpha), cos(alpha), d],\n",
    "                   [0, 0, 0, 1]])\n",
    "    return T_1\n",
    "    \n",
    "def trans(x, y, z):\n",
    "    T_2 = np.eye(4)\n",
    "    T_2[:,3] = np.array([x,y,z,1]).T\n",
    "    return T_2\n",
    "    \n",
    "def rot_z(theta):\n",
    "    rot_matrix = np.array([[np.cos(theta), -np.sin(theta), 0, 0],\n",
    "                           [np.sin(theta), np.cos(theta), 0, 0],\n",
    "                           [0, 0, 1, 0],\n",
    "                           [0, 0, 0, 1]])\n",
    "    return rot_matrix\n",
    "\n",
    "def rot_x(alpha):\n",
    "    rot_matrix = np.array([[1, 0, 0, 0],\n",
    "                           [0, np.cos(alpha), -np.sin(alpha), 0],\n",
    "                           [0, np.sin(alpha), np.cos(alpha), 0],\n",
    "                           [0, 0, 0, 1]])\n",
    "    return rot_matrix"
   ]
  },
  {
   "cell_type": "code",
   "execution_count": 5,
   "metadata": {},
   "outputs": [
    {
     "name": "stdout",
     "output_type": "stream",
     "text": [
      "[[ 0.80901699 -0.58778525  0.          2.42705098]\n",
      " [ 0.58778525  0.80901699 -0.          1.76335576]\n",
      " [ 0.          0.          1.          0.        ]\n",
      " [ 0.          0.          0.          1.        ]] \n",
      " [[ 0.40673664 -0.91354546  0.          2.83378763]\n",
      " [ 0.91354546  0.40673664  0.          2.67690121]\n",
      " [ 0.          0.          1.          0.        ]\n",
      " [ 0.          0.          0.          1.        ]] \n",
      " [[-0.20791169 -0.9781476   0.          3.14619028]\n",
      " [ 0.9781476  -0.20791169  0.          5.59467291]\n",
      " [ 0.          0.          1.          0.        ]\n",
      " [ 0.          0.          0.          1.        ]]\n",
      "[0. 0.]\n",
      "[2.42705098 1.76335576]\n",
      "[2.83378763 2.67690121]\n"
     ]
    },
    {
     "data": {
      "image/png": "[encoded data removed]",
      "text/plain": [
       "<Figure size 432x288 with 1 Axes>"
      ]
     },
     "metadata": {
      "needs_background": "light"
     },
     "output_type": "display_data"
    }
   ],
   "source": [
    "p0 = np.array([0., 0., 0., 1.])\n",
    "\n",
    "d1 = 3\n",
    "d2 = 1\n",
    "\n",
    "q1, q2 = pi/5, pi/6\n",
    "\n",
    "T01 = dh_matrix(q1, 0, d1, 0)\n",
    "T02 = dh_matrix(q1, 0, d1, 0) @ dh_matrix(q2, 0, d2, 0)\n",
    "print(T01, '\\n', T02, '\\n', T01@T02)\n",
    "\n",
    "p1 = dh_matrix(q1, 0, d1, 0) @ p0\n",
    "p2 = dh_matrix(q1, 0, d1, 0) @ dh_matrix(q2, 0, d2, 0) @ p0\n",
    "\n",
    "\n",
    "p = np.asarray([p0.T, p1.T, p2.T])\n",
    "\n",
    "fig = plt.figure()\n",
    "# ax = plt.axes(projection='3d')\n",
    "ax = plt.axes()\n",
    "ax.set_xlim(-5, 5); ax.set_ylim(-5, 5);\n",
    "\n",
    "for i in range(p.shape[0]):\n",
    "    print(p[i][0:2])\n",
    "    ax.scatter(p[i][0], p[i][1])\n",
    "    if i != 0:\n",
    "        ax.plot([p[i-1][0], p[i][0]], [p[i-1][1], p[i][1]], 'k')\n",
    "\n",
    "\n"
   ]
  },
  {
   "cell_type": "code",
   "execution_count": 6,
   "metadata": {},
   "outputs": [
    {
     "data": {
      "text/plain": [
       "array([ 0.26428858, -0.31087581])"
      ]
     },
     "execution_count": 6,
     "metadata": {},
     "output_type": "execute_result"
    }
   ],
   "source": [
    "np.asarray([3.09807621, 2.3660254]) - np.asarray([2.83378763, 2.67690121])"
   ]
  },
  {
   "cell_type": "code",
   "execution_count": 7,
   "metadata": {},
   "outputs": [],
   "source": [
    "# Define Jacobian matrix for this case\n",
    "def inv_jacobian(q1, q2, d1, d2, dx, dy):\n",
    "    j = [[-d2*sin(q1+q2)-d1*sin(q1), -d2*sin(q1+q2)],\n",
    "        [d2*cos(q1+q2)+d1*cos(q1), d2*cos(q1+q2)]]\n",
    "    inv_j = np.linalg.inv(j)\n",
    "    displacement = np.asarray([dx, dy]).T\n",
    "    dq = inv_j @ displacement\n",
    "    dq1 = dq[0]\n",
    "    dq2 = dq[1]\n",
    "    return dq1, dq2"
   ]
  },
  {
   "cell_type": "code",
   "execution_count": 8,
   "metadata": {},
   "outputs": [
    {
     "data": {
      "text/plain": [
       "(-0.0913880392547096, -0.055497399165522286)"
      ]
     },
     "execution_count": 8,
     "metadata": {},
     "output_type": "execute_result"
    }
   ],
   "source": [
    "inv_jacobian(pi/6, pi/6, 3, 1, 0.26428858, -0.31087581)\n"
   ]
  },
  {
   "cell_type": "code",
   "execution_count": 9,
   "metadata": {},
   "outputs": [
    {
     "name": "stdout",
     "output_type": "stream",
     "text": [
      "p2_ori [3.44341422 2.03423183 0.         1.        ]\n",
      "p2_des [-3. -1.  0.  1.]\n",
      "p2_displacement -6.443414220092526 -3.034231832616539\n"
     ]
    },
    {
     "data": {
      "image/png": "[encoded data removed]",
      "text/plain": [
       "<Figure size 432x288 with 1 Axes>"
      ]
     },
     "metadata": {
      "needs_background": "light"
     },
     "output_type": "display_data"
    },
    {
     "data": {
      "image/png": "[encoded data removed]",
      "text/plain": [
       "<Figure size 432x288 with 1 Axes>"
      ]
     },
     "metadata": {
      "needs_background": "light"
     },
     "output_type": "display_data"
    },
    {
     "data": {
      "image/png": "[encoded data removed]",
      "text/plain": [
       "<Figure size 432x288 with 1 Axes>"
      ]
     },
     "metadata": {
      "needs_background": "light"
     },
     "output_type": "display_data"
    }
   ],
   "source": [
    "####### Original position calculation\n",
    "p0 = np.array([0., 0., 0., 1.])\n",
    "\n",
    "d1 = 3\n",
    "d2 = 1\n",
    "\n",
    "q1, q2 = pi/6, 0.04\n",
    "\n",
    "T01 = dh_matrix(q1, 0, d1, 0)\n",
    "T02 = dh_matrix(q1, 0, d1, 0) @ dh_matrix(q2, 0, d2, 0)\n",
    "# print(T01, '\\n', T02, '\\n', T01@T02)\n",
    "\n",
    "p1 = dh_matrix(q1, 0, d1, 0) @ p0\n",
    "p2 = dh_matrix(q1, 0, d1, 0) @ dh_matrix(q2, 0, d2, 0) @ p0\n",
    "\n",
    "\n",
    "p = np.asarray([p0.T, p1.T, p2.T])\n",
    "\n",
    "\n",
    "fig = plt.figure()\n",
    "# ax = plt.axes(projection='3d')\n",
    "ax = plt.axes()\n",
    "ax.set_xlim(-5, 5); ax.set_ylim(-5, 5);\n",
    "\n",
    "for i in range(p.shape[0]):\n",
    "#     print(p[i][0:2])\n",
    "    ax.scatter(p[i][0], p[i][1])\n",
    "    if i != 0:\n",
    "        ax.plot([p[i-1][0], p[i][0]], [p[i-1][1], p[i][1]], 'k')\n",
    "        \n",
    "p2_ori = p2\n",
    "        \n",
    "####### Desired position calculation\n",
    "        \n",
    "q1_desired, q2_desired = pi, pi/2\n",
    "\n",
    "T01 = dh_matrix(q1_desired, 0, d1, 0)\n",
    "T02 = dh_matrix(q1_desired, 0, d1, 0) @ dh_matrix(q2_desired, 0, d2, 0)\n",
    "# print(T01, '\\n', T02, '\\n', T01@T02)\n",
    "\n",
    "p1 = T01 @ p0\n",
    "p2 = T02 @ p0\n",
    "\n",
    "\n",
    "p = np.asarray([p0.T, p1.T, p2.T])\n",
    "\n",
    "fig = plt.figure()\n",
    "# ax = plt.axes(projection='3d')\n",
    "ax = plt.axes()\n",
    "ax.set_xlim(-5, 5); ax.set_ylim(-5, 5);\n",
    "\n",
    "for i in range(p.shape[0]):\n",
    "#     print(p[i][0:2])\n",
    "    ax.scatter(p[i][0], p[i][1])\n",
    "    if i != 0:\n",
    "        ax.plot([p[i-1][0], p[i][0]], [p[i-1][1], p[i][1]], 'k')\n",
    "\n",
    "p2_des = p2\n",
    "\n",
    "print(\"p2_ori\", p2_ori)\n",
    "print(\"p2_des\", p2_des)\n",
    "dpx, dpy = (p2_des - p2_ori)[:2]\n",
    "print(\"p2_displacement\", dpx, dpy)\n",
    "\n",
    "q1, q2 = pi/6, 0.04\n",
    "gain_factor = 0.5\n",
    "fig = plt.figure()\n",
    "ax = plt.axes()\n",
    "ax.set_xlim(-5, 5); ax.set_ylim(-5, 5);\n",
    "\n",
    "for i in range(20):\n",
    "    dq1, dq2 = inv_jacobian(q1, q2, d1, d2, dpx, dpy)\n",
    "    q1 +=  gain_factor * dq1\n",
    "    q2 +=  gain_factor * dq2\n",
    "    T01 = dh_matrix(q1, 0, d1, 0)\n",
    "    T02 = dh_matrix(q1, 0, d1, 0) @ dh_matrix(q2, 0, d2, 0)\n",
    "    # print(T01, '\\n', T02, '\\n', T01@T02)\n",
    "    \n",
    "    # calculate d_p2\n",
    "    p1 = dh_matrix(q1, 0, d1, 0) @ p0\n",
    "    p2 = dh_matrix(q1, 0, d1, 0) @ dh_matrix(q2, 0, d2, 0) @ p0\n",
    "    dpx, dpy = (p2_des - p2)[:2]\n",
    "#     print(\"p2_displacement\", dpx, dpy)\n",
    "    p1 = dh_matrix(q1, 0, d1, 0) @ p0\n",
    "    p2 = dh_matrix(q1, 0, d1, 0) @ dh_matrix(q2, 0, d2, 0) @ p0\n",
    "\n",
    "\n",
    "    p = np.asarray([p0.T, p1.T, p2.T])\n",
    "\n",
    "    for i in range(p.shape[0]):\n",
    "    #     print(p[i][0:2])\n",
    "        ax.scatter(p[i][0], p[i][1])\n",
    "        if i != 0:\n",
    "            ax.plot([p[i-1][0], p[i][0]], [p[i-1][1], p[i][1]], 'k')\n",
    "            \n",
    "for i in range(p.shape[0]):\n",
    "    #     print(p[i][0:2])\n",
    "        ax.scatter(p[i][0], p[i][1])\n",
    "        if i != 0:\n",
    "            ax.plot([p[i-1][0], p[i][0]], [p[i-1][1], p[i][1]], 'r')\n",
    "    \n"
   ]
  },
  {
   "cell_type": "code",
   "execution_count": 93,
   "metadata": {},
   "outputs": [],
   "source": [
    "## see in this case => same point but with different approach"
   ]
  },
  {
   "cell_type": "code",
   "execution_count": null,
   "metadata": {},
   "outputs": [],
   "source": []
  }
 ],
 "metadata": {
  "kernelspec": {
   "display_name": "Python 3",
   "language": "python",
   "name": "python3"
  },
  "language_info": {
   "codemirror_mode": {
    "name": "ipython",
    "version": 3
   },
   "file_extension": ".py",
   "mimetype": "text/x-python",
   "name": "python",
   "nbconvert_exporter": "python",
   "pygments_lexer": "ipython3",
   "version": "3.6.9"
  }
 },
 "nbformat": 4,
 "nbformat_minor": 4
}

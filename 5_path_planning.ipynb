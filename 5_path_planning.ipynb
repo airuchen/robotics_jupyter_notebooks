{
 "cells": [
  {
   "cell_type": "markdown",
   "metadata": {},
   "source": [
    "# Interpolation"
   ]
  },
  {
   "cell_type": "code",
   "execution_count": 13,
   "metadata": {},
   "outputs": [],
   "source": [
    "%matplotlib inline\n",
    "import numpy as np\n",
    "import matplotlib.pyplot as plt\n",
    "from math import pi\n",
    "from math import cos, sin\n",
    "from math import sqrt"
   ]
  },
  {
   "cell_type": "code",
   "execution_count": 98,
   "metadata": {},
   "outputs": [
    {
     "data": {
      "image/png": "[encoded data removed]",
      "text/plain": [
       "<Figure size 432x288 with 1 Axes>"
      ]
     },
     "metadata": {
      "needs_background": "light"
     },
     "output_type": "display_data"
    }
   ],
   "source": [
    "class TwoLinkArm:\n",
    "    def __init__(self, joint_angles= [0, 0]):\n",
    "        self.shoulder = np.array([0, 0])\n",
    "        self.link_lengths = [1, 0.5]\n",
    "        self.update_joints(joint_angles)\n",
    "        \n",
    "    def update_joints(self, joint_angles):\n",
    "        self.joint_angles = joint_angles\n",
    "        self.forward_kinematics()\n",
    "        \n",
    "    def forward_kinematics(self):\n",
    "        theta0 = self.joint_angles[0]\n",
    "        theta1 = self.joint_angles[1]\n",
    "        l0 = self.link_lengths[0]\n",
    "        l1 = self.link_lengths[1]\n",
    "        self.elbow = self.shoulder + np.array([l0 * cos(theta0), l0 * sin(theta0)])\n",
    "        self.wrist = self.elbow + np.array([l1 * cos(theta0 + theta1), l1 * sin(theta0 + theta1)])\n",
    "        \n",
    "#         print(\"x1, y1\", self.elbow)\n",
    "#         print(\"x2, y2\", self.wrist)\n",
    "\n",
    "        \n",
    "    def inverse_kinematics(self, x, y):\n",
    "        theta1 = np.pi - np.arccos((self.link_lengths[0]**2 + self.link_lengths[1]**2 - x**2 - y**2) / (2*self.link_lengths[0]*self.link_lengths[1]))\n",
    "        theta0 = np.arctan2(y, x) - np.arccos((self.link_lengths[0]**2 + x**2 + y**2 - self.link_lengths[1]**2) / (2*self.link_lengths[0]*((x**2 + y**2)**0.5)))\n",
    "        return [theta0, theta1]\n",
    "#         print(\"theta0: \", theta0)\n",
    "#         print(\"theta1: \", theta1)\n",
    "        \n",
    "    def plot(self):\n",
    "        plt.axis([-2,2,-2,2])\n",
    "        plt.plot([self.shoulder[0], self.elbow[0]], [self.shoulder[1], self.elbow[1]], 'r-')\n",
    "        plt.plot([self.elbow[0], self.wrist[0]], [self.elbow[1], self.wrist[1]], 'b-')\n",
    "        plt.plot(self.shoulder[0], self.shoulder[1], 'ko')\n",
    "        plt.plot(self.elbow[0], self.elbow[1], 'ko')\n",
    "        plt.plot(self.wrist[0], self.wrist[1], 'ko')\n",
    " \n",
    "\n",
    "arm = TwoLinkArm([pi/4, 0])\n",
    "arm.plot()"
   ]
  },
  {
   "cell_type": "code",
   "execution_count": 108,
   "metadata": {},
   "outputs": [
    {
     "data": {
      "application/vnd.jupyter.widget-view+json": {
       "model_id": "1402134502244c94a5757304789f41b9",
       "version_major": 2,
       "version_minor": 0
      },
      "text/plain": [
       "interactive(children=(IntSlider(value=12, description='sim_t', max=25), Output(layout=Layout(height='300px')))…"
      ]
     },
     "metadata": {},
     "output_type": "display_data"
    },
    {
     "data": {
      "image/png": "[encoded data removed]",
      "text/plain": [
       "<Figure size 432x288 with 1 Axes>"
      ]
     },
     "metadata": {
      "needs_background": "light"
     },
     "output_type": "display_data"
    }
   ],
   "source": [
    "from __future__ import print_function\n",
    "from ipywidgets import interact, interactive, fixed, interact_manual\n",
    "import ipywidgets as widgets\n",
    "\n",
    "t = 25\n",
    "\n",
    "# assume joint0 and joint1 are able to rotate 30 degree per unit time\n",
    "joint_max_rad = 5 / 180 * np.pi\n",
    "# print(joint_max_rad)\n",
    "\n",
    "\n",
    "current_theta = np.zeros((t,2))\n",
    "arm = TwoLinkArm(current_theta[0])\n",
    "current_position = np.zeros((t,2))\n",
    "# desired_theta = np.array([pi/2, pi])\n",
    "desired_position = [-0.5, 1]\n",
    "desired_theta = arm.inverse_kinematics(desired_position[0], desired_position[1])\n",
    "dif_theta = np.zeros((t,2))\n",
    "\n",
    "dt = np.arange(0, t)\n",
    "\n",
    "\n",
    "for i in range(t):\n",
    "    dif_theta[i] = desired_theta - current_theta[i]\n",
    "    dif_theta[i] = np.where(dif_theta[i] > joint_max_rad, joint_max_rad, dif_theta[i])\n",
    "    if i < t-1:\n",
    "        current_theta[i+1] = current_theta[i] + dif_theta[i] \n",
    "    arm.update_joints(current_theta[i])\n",
    "    current_position[i] = arm.wrist\n",
    "\n",
    "fig = plt.figure()\n",
    "ax = plt.axes()\n",
    "# ax.set_xlim(0, 5); ax.set_ylim(0, 2);\n",
    "ax.plot(dt, current_position[:])\n",
    "# print(current_position)\n",
    "\n",
    "def iterpolation(sim_t):    \n",
    "    arm.update_joints(current_theta[sim_t])\n",
    "    print(\"current end position\", arm.wrist)\n",
    "    arm.plot()\n",
    "    \n",
    "\n",
    "    \n",
    "interactive_plot = interactive(iterpolation, sim_t=(0, 25, 1))\n",
    "output = interactive_plot.children[-1]\n",
    "output.layout.height = '300px'\n",
    "interactive_plot"
   ]
  },
  {
   "cell_type": "markdown",
   "metadata": {},
   "source": [
    "# Speed Profile: Shock-free and Jerk-limited"
   ]
  },
  {
   "cell_type": "code",
   "execution_count": 1,
   "metadata": {},
   "outputs": [],
   "source": [
    "%matplotlib inline\n",
    "import numpy as np\n",
    "import matplotlib.pyplot as plt\n",
    "from math import pi\n",
    "from math import cos, sin\n",
    "from math import sqrt"
   ]
  },
  {
   "cell_type": "markdown",
   "metadata": {},
   "source": [
    "### Given parameters: \n",
    "***a_max***\n",
    "\n",
    "***v_max***\n",
    "\n",
    "***s_total***"
   ]
  },
  {
   "cell_type": "code",
   "execution_count": 5,
   "metadata": {},
   "outputs": [],
   "source": [
    "# Set parameters\n",
    "a_max = 2 # m/(s**2)\n",
    "v_max = 2 # m/s\n",
    "s_total = 5 # m\n",
    "\n",
    "# acceleration time can be determined from a_max and v_max\n",
    "t_acc = 1.5 * (v_max / a_max)"
   ]
  },
  {
   "cell_type": "markdown",
   "metadata": {},
   "source": [
    "## Phase 1: acceleration profile\n",
    "\n",
    "Gien a_max and t_acc, we are able to calcultae the interpolation params.\n",
    "\n",
    "**Assume acceleration function a(t) = At<sup>2</sup> + Bt + C**"
   ]
  },
  {
   "cell_type": "code",
   "execution_count": 6,
   "metadata": {},
   "outputs": [
    {
     "data": {
      "text/plain": [
       "[<matplotlib.lines.Line2D at 0x7fd956a5a9e8>]"
      ]
     },
     "execution_count": 6,
     "metadata": {},
     "output_type": "execute_result"
    },
    {
     "data": {
      "image/png": "[encoded data removed]",
      "text/plain": [
       "<Figure size 432x288 with 1 Axes>"
      ]
     },
     "metadata": {
      "needs_background": "light"
     },
     "output_type": "display_data"
    }
   ],
   "source": [
    "t = np.linspace(0, t_acc, 100)\n",
    "\n",
    "a_1 = (-4*a_max) * (t**2) / (t_acc**2)  + (4*a_max) * t / (t_acc)\n",
    "v_1 = (-4*a_max) * (t**3)/ (3*(t_acc**2)) + (4*a_max) * (t**2) / (2*t_acc)\n",
    "s_1 = (2*a_max*(t**3)*t_acc - a_max*(t**4)) / (3*(t_acc**2))\n",
    "\n",
    "fig = plt.figure()\n",
    "ax = plt.axes()\n",
    "ax.set_xlim(0, 5); ax.set_ylim(-5, 5);\n",
    "ax.plot(t, a_1, 'b')\n",
    "ax.plot(t, v_1, 'y')\n",
    "ax.plot(t, s_1, 'r')"
   ]
  },
  {
   "cell_type": "markdown",
   "metadata": {},
   "source": [
    "## Phase 2: Plateau state"
   ]
  },
  {
   "cell_type": "code",
   "execution_count": 7,
   "metadata": {},
   "outputs": [
    {
     "name": "stdout",
     "output_type": "stream",
     "text": [
      "t_plateau:  1.0\n"
     ]
    },
    {
     "data": {
      "text/plain": [
       "[<matplotlib.lines.Line2D at 0x7fd9569c0b00>]"
      ]
     },
     "execution_count": 7,
     "metadata": {},
     "output_type": "execute_result"
    },
    {
     "data": {
      "image/png": "[encoded data removed]",
      "text/plain": [
       "<Figure size 432x288 with 1 Axes>"
      ]
     },
     "metadata": {
      "needs_background": "light"
     },
     "output_type": "display_data"
    }
   ],
   "source": [
    "t_plateau = (s_total - 2*s_1[-1])/v_max\n",
    "print(\"t_plateau: \", t_plateau)\n",
    "\n",
    "t = np.linspace(t_acc,t_plateau + t_acc, 100)\n",
    "a_2 = 0*t\n",
    "v_2 = v_max * np.ones((t.shape))\n",
    "s_2 = s_1[-1] + v_max * (t - t_acc)\n",
    "\n",
    "fig = plt.figure()\n",
    "ax = plt.axes()\n",
    "ax.set_xlim(0, 5); ax.set_ylim(-5, 5);\n",
    "ax.plot(t, a_2, 'b')\n",
    "ax.plot(t, v_2, 'y')\n",
    "ax.plot(t, s_2, 'r')"
   ]
  },
  {
   "cell_type": "markdown",
   "metadata": {},
   "source": [
    "## Phase 3: Braking Phase\n",
    "\n",
    "Since the equation is too complicated. I use the inverted phase1 as workaround."
   ]
  },
  {
   "cell_type": "code",
   "execution_count": 8,
   "metadata": {},
   "outputs": [
    {
     "data": {
      "text/plain": [
       "[<matplotlib.lines.Line2D at 0x7fd956938240>]"
      ]
     },
     "execution_count": 8,
     "metadata": {},
     "output_type": "execute_result"
    },
    {
     "data": {
      "image/png": "[encoded data removed]",
      "text/plain": [
       "<Figure size 432x288 with 1 Axes>"
      ]
     },
     "metadata": {
      "needs_background": "light"
     },
     "output_type": "display_data"
    }
   ],
   "source": [
    "# t = np.linspace(t_acc + t_plateau, t_acc + t_plateau + t_acc, 100)\n",
    "t = np.linspace(0, t_acc, 100)\n",
    "\n",
    "\n",
    "# a_3 = (4*a_max*(t_plateau**2))/(t_acc**2) + (12*a_max*t_plateau)/t_acc - (8*a_max*t*t_plateau)/(t_acc**2) - (12*a_max*t)/t_acc + (4*a_max*(t**2))/(t_acc**2) + 8*a_max\n",
    "# v_3 = -(4*a_max*(t_plateau**3))/(3*t_acc**2) - (6*a_max*(t_plateau**2))/t_acc + (4*a_max*t*(t_plateau**2))/(t_acc**2) + (12*a_max*t*t_plateau)/t_acc - (4*a_max*(t**2)*t_plateau)/(t_acc**2) - 8*a_max*t_plateau - 8*a_max*t_acc/3 - 6*a_max*(t**2)/t_acc + 4*a_max*(t**3)/(3*(t_acc**2)) + 8*a_max*t\n",
    "\n",
    "a_3 = -(-4*a_max) * (t**2) / (t_acc**2)  - (4*a_max) * t / (t_acc)\n",
    "v_3 = v_2[-1] - ((-4*a_max) * (t**3)/ (3*(t_acc**2)) + (4*a_max) * (t**2) / (2*t_acc))\n",
    "s_3 = s_2[-1] + v_2[-1]*t - ((-a_max) * (t**4)/ (3*(t_acc**2)) + (4*a_max) * (t**3) / (6*t_acc))\n",
    "\n",
    "t = np.linspace(t_acc + t_plateau, t_acc + t_plateau + t_acc, 100)\n",
    "\n",
    "fig = plt.figure()\n",
    "ax = plt.axes()\n",
    "ax.set_xlim(0, 5); ax.set_ylim(-5, 5);\n",
    "ax.plot(t, a_3, 'b')\n",
    "ax.plot(t, v_3, 'y')\n",
    "ax.plot(t, s_3, 'r')"
   ]
  },
  {
   "cell_type": "markdown",
   "metadata": {},
   "source": [
    "## Overall profile"
   ]
  },
  {
   "cell_type": "code",
   "execution_count": 9,
   "metadata": {},
   "outputs": [
    {
     "data": {
      "text/plain": [
       "[<matplotlib.lines.Line2D at 0x7fd9568955f8>]"
      ]
     },
     "execution_count": 9,
     "metadata": {},
     "output_type": "execute_result"
    },
    {
     "data": {
      "image/png": "[encoded data removed]",
      "text/plain": [
       "<Figure size 432x288 with 1 Axes>"
      ]
     },
     "metadata": {
      "needs_background": "light"
     },
     "output_type": "display_data"
    }
   ],
   "source": [
    "t = np.linspace(0, 2*t_acc+t_plateau, 300)\n",
    "\n",
    "fig = plt.figure()\n",
    "ax = plt.axes()\n",
    "ax.set_xlim(0, 5); ax.set_ylim(-5, 5);\n",
    "a = np.concatenate((a_1, a_2, a_3))\n",
    "v = np.concatenate((v_1, v_2, v_3))\n",
    "s = np.concatenate((s_1, s_2, s_3))\n",
    "ax.plot(t, a, 'b')\n",
    "ax.plot(t, v, 'y')\n",
    "ax.plot(t, s, 'r')"
   ]
  },
  {
   "cell_type": "code",
   "execution_count": null,
   "metadata": {},
   "outputs": [],
   "source": []
  }
 ],
 "metadata": {
  "kernelspec": {
   "display_name": "Python 3",
   "language": "python",
   "name": "python3"
  },
  "language_info": {
   "codemirror_mode": {
    "name": "ipython",
    "version": 3
   },
   "file_extension": ".py",
   "mimetype": "text/x-python",
   "name": "python",
   "nbconvert_exporter": "python",
   "pygments_lexer": "ipython3",
   "version": "3.6.9"
  }
 },
 "nbformat": 4,
 "nbformat_minor": 4
}
